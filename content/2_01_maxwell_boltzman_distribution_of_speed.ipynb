{
  "nbformat": 4,
  "nbformat_minor": 0,
  "metadata": {
    "colab": {
      "provenance": []
    },
    "kernelspec": {
      "name": "python3",
      "display_name": "Python 3"
    },
    "language_info": {
      "name": "python"
    }
  },
  "cells": [
    {
      "cell_type": "code",
      "execution_count": null,
      "metadata": {
        "id": "vXrDYr7WlD2V"
      },
      "outputs": [],
      "source": [
        "import numpy as np\n",
        "import matplotlib.pyplot as plt\n",
        "\n",
        "# Constants\n",
        "m_Ar = 39.948/(6.02e23)/1000  # mass of Ar in kg per molecule\n",
        "kB = 1.3806503e-23  # in J/K\n",
        "\n",
        "# Temperatures\n",
        "temperatures = [25, 100, 300, 1200]  # in Kelvin\n",
        "\n",
        "# Maxwell-Boltzmann speed distribution function\n",
        "def f(m, T, v):\n",
        "    return 4 * np.pi * v**2 * (m / (2 * np.pi * kB * T))**1.5 * np.exp(-m * v**2 / (2 * kB * T))\n",
        "\n",
        "# Velocity\n",
        "v = np.arange(0.0, 2000, 0.01)\n",
        "\n",
        "# Plotting\n",
        "plt.figure(figsize=(5, 5))\n",
        "plt.text(450, 0.005, r'$f(v) = 4\\pi v^{2}\\left(\\frac{m}{2 \\pi k_{B} T}\\right)^{3/2} \\exp{\\frac{-mv^{2}}{2k_{B}T}}$', fontsize=14)\n",
        "colors = ['crimson', 'darkorchid', 'blue', 'green']\n",
        "alphas = [0.15, 0.1, 0.1, 0.1]\n",
        "\n",
        "for temp, color, alpha in zip(temperatures, colors, alphas):\n",
        "    distribution = f(m_Ar, temp, v)\n",
        "    plt.plot(v, distribution, color=color, label=f'{temp} K')\n",
        "    plt.fill_between(v, distribution, alpha=alpha, color=color)\n",
        "\n",
        "plt.xlabel('$v$ (m $\\mathrm{s}^{-1}$)', fontsize=14)\n",
        "plt.ylabel('$f\\,(v)$', fontsize=14)\n",
        "plt.title('Maxwell-Boltzmann Distribution of Speed for Argon')\n",
        "plt.legend()\n",
        "plt.show()\n"
      ]
    },
    {
      "cell_type": "code",
      "source": [
        "import numpy as np\n",
        "import matplotlib.pyplot as plt\n",
        "from scipy.integrate import quad\n",
        "\n",
        "# Constants\n",
        "m_Ar = 39.948/(6.02e23)/1000  # mass of Ar in kg per molecule\n",
        "kB = 1.3806503e-23  # in J/K\n",
        "\n",
        "# Temperatures\n",
        "T = 300  # in K\n",
        "\n",
        "# Maxwell-Boltzmann speed distribution function\n",
        "def f(v, m, T):\n",
        "    return 4 * np.pi * v**2 * (m / (2 * np.pi * kB * T))**1.5 * np.exp(-m * v**2 / (2 * kB * T))\n",
        "\n",
        "# Specify the speed range\n",
        "v_min = 250\n",
        "v_max = 500\n",
        "\n",
        "# Calculate the fraction of molecules in the specified speed range\n",
        "fraction, _ = quad(f, v_min, v_max, args=(m_Ar, T))\n",
        "print(f\"Fraction of molecules with speeds between 250 and 500 m/s is {fraction:0.2f}.\")\n",
        "\n",
        "# Speed for plotting\n",
        "v = np.arange(0.0, 2000, 0.01)\n",
        "\n",
        "# Plot the Maxwell-Boltzmann distribution\n",
        "plt.figure(figsize=(5,5))\n",
        "plt.plot(v, f(v, m_Ar, T), color=\"tab:blue\")\n",
        "v_fill = np.linspace(v_min, v_max, 500)\n",
        "f_fill = f(v_fill, m_Ar, T)\n",
        "plt.fill_between(v_fill, f_fill, color='tab:red', alpha=0.3)\n",
        "plt.xlabel('$v$ (m $\\mathrm{s}^{-1}$)', fontsize=14)\n",
        "plt.ylabel('$f\\,(v)$', fontsize=14)\n",
        "plt.title('Maxwell-Boltzmann Distribution of Speed for Argon at 300 K')\n",
        "plt.grid(True)\n",
        "plt.show();"
      ],
      "metadata": {
        "id": "8cmk3Af5nK3f"
      },
      "execution_count": null,
      "outputs": []
    },
    {
      "cell_type": "code",
      "source": [],
      "metadata": {
        "id": "ZDHCrfpgBTNl"
      },
      "execution_count": null,
      "outputs": []
    }
  ]
}