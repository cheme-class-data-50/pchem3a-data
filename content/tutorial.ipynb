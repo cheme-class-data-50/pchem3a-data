import numpy as np
import matplotlib.pyplot as plt
x = np.linspace(0,5,100)
y = np.cos(x)*np.cosh(x)-1
plt.plot(x,y)
plt.show()
